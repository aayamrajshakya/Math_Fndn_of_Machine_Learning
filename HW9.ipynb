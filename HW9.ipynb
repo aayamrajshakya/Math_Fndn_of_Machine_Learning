{
  "cells": [
    {
      "cell_type": "markdown",
      "metadata": {
        "id": "Cn3Emu8Zrq6I"
      },
      "source": [
        "Name: Aayam Raj Shakya (as5160)"
      ]
    },
    {
      "cell_type": "code",
      "execution_count": null,
      "metadata": {
        "id": "LI1DzXigtmXf"
      },
      "outputs": [],
      "source": [
        "# importing required libraries\n",
        "import matplotlib.pyplot as plt\n",
        "import torch\n",
        "from torch import nn\n",
        "import torch.nn.functional as F\n",
        "from torch.utils.data import DataLoader\n",
        "from torchvision import datasets, transforms\n",
        "from torchvision.transforms import ToTensor"
      ]
    },
    {
      "cell_type": "markdown",
      "metadata": {
        "id": "JWGgHQtyrxX2"
      },
      "source": [
        "(Exploring and designing a deep network). Popular deep learning packages are summarized on page 302. Choose one of them to design a CNN for the MNIST dataset. For each one, if you choose a simple CNN, its test accuracy will become approximately 99%. You can make it better through appropriate additions and modifications. For example, you may try:\n",
        "\n",
        "(a) Set multiple convolution-pooling layers.\n",
        "\n",
        "(b) Choose various number of hidden layers and units on each layer.\n",
        "\n",
        "(c) Select various activation functions.\n",
        "\n",
        "Explore the package of your choice yourself, to design a CNN showing an accuracy\n",
        "better than 99.5%."
      ]
    },
    {
      "cell_type": "code",
      "execution_count": null,
      "metadata": {
        "id": "tep2AypFuf-J",
        "outputId": "205738cc-c3e7-4ddc-ab9d-8e5fb1f01dd6"
      },
      "outputs": [
        {
          "name": "stderr",
          "output_type": "stream",
          "text": [
            "100.0%\n",
            "100.0%\n",
            "100.0%\n",
            "100.0%\n"
          ]
        }
      ],
      "source": [
        "# Data augmentation\n",
        "train_transform = transforms.Compose([\n",
        "    transforms.RandomRotation(degrees=10),\n",
        "    transforms.RandomAffine(degrees=20, translate=(0.1, 0.1), scale=(0.9, 1.1)),\n",
        "    transforms.ToTensor(),\n",
        "])\n",
        "\n",
        "test_transform = transforms.Compose([\n",
        "    transforms.ToTensor(),\n",
        "])\n",
        "\n",
        "# Download training data from open datasets\n",
        "training_data = datasets.MNIST(\n",
        "    root=\"data\",\n",
        "    train=True,\n",
        "    download=True,\n",
        "    transform=train_transform,\n",
        ")\n",
        "\n",
        "# Download test data from open datasets\n",
        "test_data = datasets.MNIST(\n",
        "    root=\"data\",\n",
        "    train=False,\n",
        "    download=True,\n",
        "    transform=test_transform,\n",
        ")"
      ]
    },
    {
      "cell_type": "code",
      "execution_count": null,
      "metadata": {
        "colab": {
          "base_uri": "https://localhost:8080/"
        },
        "id": "ONqaEc_ju33A",
        "outputId": "319ee86e-b925-498f-f48d-95f2880bbc72"
      },
      "outputs": [
        {
          "name": "stdout",
          "output_type": "stream",
          "text": [
            "Training Data: Dataset MNIST\n",
            "    Number of datapoints: 60000\n",
            "    Root location: data\n",
            "    Split: Train\n",
            "    StandardTransform\n",
            "Transform: Compose(\n",
            "               RandomRotation(degrees=[-10.0, 10.0], interpolation=nearest, expand=False, fill=0)\n",
            "               RandomAffine(degrees=[-20.0, 20.0], translate=(0.1, 0.1), scale=(0.9, 1.1))\n",
            "               ToTensor()\n",
            "           )\n",
            "\n",
            "Test Data: Dataset MNIST\n",
            "    Number of datapoints: 10000\n",
            "    Root location: data\n",
            "    Split: Test\n",
            "    StandardTransform\n",
            "Transform: Compose(\n",
            "               ToTensor()\n",
            "           )\n"
          ]
        }
      ],
      "source": [
        "print(f\"Training Data: {training_data}\")\n",
        "print(f\"\\nTest Data: {test_data}\")"
      ]
    },
    {
      "cell_type": "code",
      "execution_count": null,
      "metadata": {
        "colab": {
          "base_uri": "https://localhost:8080/",
          "height": 428
        },
        "id": "t6F_WNaNvJPu",
        "outputId": "d84aa85d-406f-488d-e8b2-acf9de00ac39"
      },
      "outputs": [
        {
          "data": {
            "image/png": "[encoded data removed]",
            "text/plain": [
              "<Figure size 640x480 with 1 Axes>"
            ]
          },
          "metadata": {},
          "output_type": "display_data"
        }
      ],
      "source": [
        "# Label-mapping for MNIST dataset\n",
        "label_map = {0: \"zero\",\n",
        "             1: \"one\",\n",
        "             2: \"two\",\n",
        "             3: \"three\",\n",
        "             4: \"four\",\n",
        "             5: \"five\",\n",
        "             6: \"six\",\n",
        "             7: \"seven\",\n",
        "             8: \"eight\",\n",
        "             9: \"nine\"}\n",
        "\n",
        "# Visualize the first image in the training dataset\n",
        "first_image = training_data[0][0].reshape((28, 28))\n",
        "first_label = training_data[0][1]\n",
        "\n",
        "plt.imshow(first_image)\n",
        "plt.title(\"Digit %s\" % label_map[first_label])\n",
        "plt.axis(\"off\")\n",
        "plt.show()"
      ]
    },
    {
      "cell_type": "code",
      "execution_count": null,
      "metadata": {
        "colab": {
          "base_uri": "https://localhost:8080/",
          "height": 675
        },
        "id": "fFrtIrsavnZ1",
        "outputId": "4b46bec7-860d-4ca1-8a69-1fcd03341300"
      },
      "outputs": [
        {
          "data": {
            "image/png": "[encoded data removed]",
            "text/plain": [
              "<Figure size 800x800 with 9 Axes>"
            ]
          },
          "metadata": {},
          "output_type": "display_data"
        }
      ],
      "source": [
        "# Visualize multiple images from the training dataset\n",
        "fig = plt.figure(figsize=(8, 8))\n",
        "cols, rows = 3, 3\n",
        "for i in range(1, cols * rows + 1):\n",
        "  sample_idx = torch.randint(len(training_data), size=(1, )).item()\n",
        "  img, label = training_data[sample_idx]\n",
        "  fig.add_subplot(rows, cols, i)\n",
        "  plt.title(label_map[label])\n",
        "  plt.axis(\"off\")\n",
        "  plt.imshow(img.squeeze())\n",
        "plt.show()"
      ]
    },
    {
      "cell_type": "markdown",
      "metadata": {
        "id": "EeUIQaFT5fsI"
      },
      "source": [
        "We pass the `Dataset` as an argument to `DataLoader`. This wraps an\n",
        "iterable over our dataset, and supports automatic batching, sampling,\n",
        "shuffling and multiprocess data loading. Here we define a batch size of\n",
        "128, i.e. each element in the dataloader iterable will return a batch of\n",
        "128 features and labels."
      ]
    },
    {
      "cell_type": "code",
      "execution_count": null,
      "metadata": {
        "colab": {
          "base_uri": "https://localhost:8080/"
        },
        "id": "eqGWk9Yswqzx",
        "outputId": "0a3c3cac-410c-40d3-db93-f65f9edb796f"
      },
      "outputs": [
        {
          "name": "stdout",
          "output_type": "stream",
          "text": [
            "Number of batches in the training set: 469\n",
            "Number of batches in the test set: 79\n",
            "Shape of batched_x [N, C, H, W]: torch.Size([128, 1, 28, 28]) torch.float32\n",
            "Shape of batched_y: torch.Size([128]) torch.int64\n"
          ]
        }
      ],
      "source": [
        "batch_size = 128\n",
        "\n",
        "# Create data loaders\n",
        "train_dataloader = DataLoader(training_data, batch_size=batch_size)\n",
        "test_dataloader = DataLoader(test_data, batch_size=batch_size)\n",
        "\n",
        "print(f\"Number of batches in the training set: {len(train_dataloader)}\")\n",
        "print(f\"Number of batches in the test set: {len(test_dataloader)}\")\n",
        "\n",
        "for batched_x, batched_y in test_dataloader:\n",
        "    # batched_x is one batch of images\n",
        "    # N, C, H, W = batch_size, channel, height, width\n",
        "    print(f\"Shape of batched_x [N, C, H, W]: {batched_x.shape} {batched_x.dtype}\")\n",
        "\n",
        "    # batched_y is one batch of labels\n",
        "    print(f\"Shape of batched_y: {batched_y.shape} {batched_y.dtype}\")\n",
        "    break"
      ]
    },
    {
      "cell_type": "markdown",
      "metadata": {
        "id": "dsCFetnN7oTQ"
      },
      "source": [
        "Convolutional Neural Networks\n",
        "---"
      ]
    },
    {
      "cell_type": "code",
      "execution_count": null,
      "metadata": {
        "colab": {
          "base_uri": "https://localhost:8080/"
        },
        "id": "pQdySqlbxO3_",
        "outputId": "270bf0cd-2111-4da0-ccd9-ee7387d08b5b"
      },
      "outputs": [
        {
          "name": "stdout",
          "output_type": "stream",
          "text": [
            "Using cuda device\n",
            "NeuralNetwork(\n",
            "  (conv1): Conv2d(1, 64, kernel_size=(3, 3), stride=(1, 1))\n",
            "  (norm1): BatchNorm2d(64, eps=1e-05, momentum=0.1, affine=True, track_running_stats=True)\n",
            "  (conv2): Conv2d(64, 64, kernel_size=(3, 3), stride=(1, 1))\n",
            "  (norm2): BatchNorm2d(64, eps=1e-05, momentum=0.1, affine=True, track_running_stats=True)\n",
            "  (pool1): MaxPool2d(kernel_size=2, stride=2, padding=0, dilation=1, ceil_mode=False)\n",
            "  (drop1): Dropout(p=0.25, inplace=False)\n",
            "  (conv3): Conv2d(64, 128, kernel_size=(3, 3), stride=(1, 1))\n",
            "  (norm3): BatchNorm2d(128, eps=1e-05, momentum=0.1, affine=True, track_running_stats=True)\n",
            "  (conv4): Conv2d(128, 128, kernel_size=(3, 3), stride=(1, 1))\n",
            "  (norm4): BatchNorm2d(128, eps=1e-05, momentum=0.1, affine=True, track_running_stats=True)\n",
            "  (pool2): MaxPool2d(kernel_size=2, stride=2, padding=0, dilation=1, ceil_mode=False)\n",
            "  (drop2): Dropout(p=0.25, inplace=False)\n",
            "  (flatten): Flatten(start_dim=1, end_dim=-1)\n",
            "  (dense1): Linear(in_features=2048, out_features=512, bias=True)\n",
            "  (norm5): BatchNorm1d(512, eps=1e-05, momentum=0.1, affine=True, track_running_stats=True)\n",
            "  (drop3): Dropout(p=0.5, inplace=False)\n",
            "  (dense2): Linear(in_features=512, out_features=10, bias=True)\n",
            ")\n"
          ]
        }
      ],
      "source": [
        "device = torch.device(\"cuda\" if torch.cuda.is_available() else \"cpu\")\n",
        "print(f\"Using {device} device\")\n",
        "\n",
        "# My initial model with accuracy of 99.0%\n",
        "# class NeuralNetwork(nn.Module):\n",
        "#     def __init__(self):\n",
        "#         super().__init__()\n",
        "#         self.conv1 = nn.Conv2d(1, 10, kernel_size=5)\n",
        "#         self.conv2 = nn.Conv2d(10, 20, kernel_size=5)\n",
        "#         self.conv2_drop = nn.Dropout2d()\n",
        "#         self.fc1 = nn.Linear(320, 50)\n",
        "#         self.fc2 = nn.Linear(50, 10)\n",
        "\n",
        "#     def forward(self, x):\n",
        "#         x = F.relu(F.max_pool2d(self.conv1(x), 2))\n",
        "#         x = F.relu(F.max_pool2d(self.conv2_drop(self.conv2(x)), 2))\n",
        "#         x = x.view(-1, 320)\n",
        "#         x = F.relu(self.fc1(x))\n",
        "#         x = self.fc2(x)\n",
        "#         return x\n",
        "\n",
        "class NeuralNetwork(nn.Module):\n",
        "    def __init__(self):\n",
        "      super().__init__()\n",
        "\n",
        "      self.conv1 = nn.Conv2d(in_channels=1, out_channels=64, kernel_size=3)\n",
        "      self.norm1 = nn.BatchNorm2d(num_features=64)\n",
        "\n",
        "      self.conv2 = nn.Conv2d(in_channels=64, out_channels=64, kernel_size=3)\n",
        "      self.norm2 = nn.BatchNorm2d(num_features=64)\n",
        "\n",
        "      self.pool1 = nn.MaxPool2d(2, 2)\n",
        "      self.drop1 = nn.Dropout(0.25)\n",
        "\n",
        "      self.conv3 = nn.Conv2d(in_channels=64, out_channels=128, kernel_size=3)\n",
        "      self.norm3 = nn.BatchNorm2d(num_features=128)\n",
        "\n",
        "      self.conv4 = nn.Conv2d(in_channels=128, out_channels=128, kernel_size=3)\n",
        "      self.norm4 = nn.BatchNorm2d(num_features=128)\n",
        "\n",
        "      self.pool2 = nn.MaxPool2d(2, 2)\n",
        "      self.drop2 = nn.Dropout(0.25)\n",
        "\n",
        "      self.flatten = nn.Flatten()\n",
        "      # to calculate the in_features for the fully-connected layers,\n",
        "      # take the output of the last conv layer (64; 8x8)\n",
        "      # the kernel size and stride of the max-pool after that is (2, 2), so the\n",
        "      # conv layer output dim will be reduced down to 4x4\n",
        "      self.dense1 = nn.Linear(128*4*4, 512)\n",
        "      self.norm5 = nn.BatchNorm1d(num_features=512)\n",
        "\n",
        "      self.drop3 = nn.Dropout(0.5)\n",
        "\n",
        "      self.dense2 = nn.Linear(512, 10)\n",
        "\n",
        "    def forward(self, x):\n",
        "\n",
        "      x = F.relu(self.norm1(self.conv1(x)))\n",
        "      x = self.drop1(self.pool1(self.norm2(self.conv2(x))))\n",
        "      x = F.relu(self.norm3(self.conv3(x)))\n",
        "\n",
        "      x = self.drop2(self.pool2(self.norm4(self.conv4(x))))\n",
        "\n",
        "      x = self.flatten(x)\n",
        "      x = F.relu(self.norm5(self.dense1(x)))\n",
        "\n",
        "      x = self.drop3(x)\n",
        "      x = self.dense2(x)\n",
        "      return x\n",
        "\n",
        "model = NeuralNetwork().to(device)\n",
        "print(model)"
      ]
    },
    {
      "cell_type": "markdown",
      "metadata": {
        "id": "zO32TV0u8JxA"
      },
      "source": [
        "Optimizing the Model Parameters\n",
        "===============================\n",
        "\n",
        "To train a model, we need a [loss\n",
        "function](https://pytorch.org/docs/stable/nn.html#loss-functions) and an\n",
        "[optimizer](https://pytorch.org/docs/stable/optim.html)."
      ]
    },
    {
      "cell_type": "code",
      "execution_count": null,
      "metadata": {
        "id": "TQnyK7n577bA"
      },
      "outputs": [],
      "source": [
        "loss_fn = nn.CrossEntropyLoss()\n",
        "optimizer = torch.optim.SGD(model.parameters(), lr=0.1)\n",
        "\n",
        "from torch.optim.lr_scheduler import ReduceLROnPlateau\n",
        "scheduler = ReduceLROnPlateau(optimizer, 'min', patience = 5)"
      ]
    },
    {
      "cell_type": "markdown",
      "metadata": {
        "id": "-vYnnx4F8U5Q"
      },
      "source": [
        "Running a single iteration is usually not sufficient to train the network. We can repeat this process by running the forward and backward passes within a training loop. In a single training loop, the model makes predictions on the training dataset (fed to it in batches), and backpropagates the prediction error to adjust the model's parameters."
      ]
    },
    {
      "cell_type": "code",
      "execution_count": null,
      "metadata": {
        "id": "xU6OskU704SP"
      },
      "outputs": [],
      "source": [
        "# Training loop\n",
        "def train(dataloader, model, loss_fn, optimizer, scheduler):\n",
        "    size = len(dataloader.dataset)\n",
        "    model.train()\n",
        "    losses=[]\n",
        "    for batch, (X, y) in enumerate(dataloader):\n",
        "        X, y = X.to(device), y.to(device)\n",
        "\n",
        "        # Compute prediction error and perform backpropagation\n",
        "        pred = model(X)\n",
        "        loss = loss_fn(pred, y)\n",
        "\n",
        "        losses.append(loss.item())\n",
        "\n",
        "        # Backpropagation\n",
        "        optimizer.zero_grad()\n",
        "        loss.backward()\n",
        "        optimizer.step()\n",
        "\n",
        "        if batch % 100 == 0:\n",
        "            loss, current = loss.item(), (batch + 1) * len(X)\n",
        "            print(f\"loss: {loss:>7f}  [{current:>5d}/{size:>5d}]\")\n",
        "    mean_loss = sum(losses) / len(losses)\n",
        "    mean_loss = round(mean_loss, 2)\n",
        "    scheduler.step(mean_loss)"
      ]
    },
    {
      "cell_type": "markdown",
      "metadata": {
        "id": "0iDBjr_C8aJp"
      },
      "source": [
        "We also check the model's performance against the test dataset to ensure it is learning."
      ]
    },
    {
      "cell_type": "code",
      "execution_count": null,
      "metadata": {
        "id": "zgd5gBu01BPH"
      },
      "outputs": [],
      "source": [
        "# Testing loop\n",
        "def test(dataloader, model, loss_fn):\n",
        "    size = len(dataloader.dataset)\n",
        "    num_batches = len(dataloader)\n",
        "    model.eval()\n",
        "    test_loss, correct = 0, 0\n",
        "    with torch.no_grad():\n",
        "        for X, y in dataloader:\n",
        "            X, y = X.to(device), y.to(device)\n",
        "            pred = model(X)\n",
        "\n",
        "            # Compute prediction and calculate the accuracy\n",
        "            test_loss += loss_fn(pred, y).item()\n",
        "            correct += (pred.argmax(1) == y).type(torch.float).sum().item()\n",
        "    test_loss /= num_batches\n",
        "    correct /= size\n",
        "\n",
        "    print(f\"Test Error: \\n Accuracy: {(100*correct):>0.1f}%, Avg loss: {test_loss:>8f} \\n\")"
      ]
    },
    {
      "cell_type": "markdown",
      "metadata": {
        "id": "gYWonzB58ffA"
      },
      "source": [
        "The training process is conducted over several iterations (*epochs*).\n",
        "During each epoch, the model learns parameters to make better\n",
        "predictions. We print the model\\'s accuracy and loss at each epoch;\n",
        "we\\'d like to see the accuracy increase and the loss decrease with every\n",
        "epoch."
      ]
    },
    {
      "cell_type": "code",
      "execution_count": null,
      "metadata": {
        "colab": {
          "base_uri": "https://localhost:8080/"
        },
        "id": "NhTw8BoTx9TO",
        "outputId": "7865571b-1da0-4787-8e29-a2e2609e8e94"
      },
      "outputs": [
        {
          "name": "stdout",
          "output_type": "stream",
          "text": [
            "Epoch 1\n",
            "-------------------------------\n",
            "loss: 2.410385  [  128/60000]\n",
            "loss: 0.300840  [12928/60000]\n",
            "loss: 0.201266  [25728/60000]\n",
            "loss: 0.298582  [38528/60000]\n",
            "loss: 0.194686  [51328/60000]\n",
            "Test Error: \n",
            " Accuracy: 98.8%, Avg loss: 0.039588 \n",
            "\n",
            "Epoch 2\n",
            "-------------------------------\n",
            "loss: 0.164834  [  128/60000]\n",
            "loss: 0.109721  [12928/60000]\n",
            "loss: 0.179911  [25728/60000]\n",
            "loss: 0.173367  [38528/60000]\n",
            "loss: 0.114067  [51328/60000]\n",
            "Test Error: \n",
            " Accuracy: 98.7%, Avg loss: 0.036946 \n",
            "\n",
            "Epoch 3\n",
            "-------------------------------\n",
            "loss: 0.122694  [  128/60000]\n",
            "loss: 0.086378  [12928/60000]\n",
            "loss: 0.159435  [25728/60000]\n",
            "loss: 0.159642  [38528/60000]\n",
            "loss: 0.100776  [51328/60000]\n",
            "Test Error: \n",
            " Accuracy: 99.1%, Avg loss: 0.024859 \n",
            "\n",
            "Epoch 4\n",
            "-------------------------------\n",
            "loss: 0.092434  [  128/60000]\n",
            "loss: 0.075275  [12928/60000]\n",
            "loss: 0.111268  [25728/60000]\n",
            "loss: 0.124010  [38528/60000]\n",
            "loss: 0.163836  [51328/60000]\n",
            "Test Error: \n",
            " Accuracy: 99.1%, Avg loss: 0.026861 \n",
            "\n",
            "Epoch 5\n",
            "-------------------------------\n",
            "loss: 0.091823  [  128/60000]\n",
            "loss: 0.055529  [12928/60000]\n",
            "loss: 0.100859  [25728/60000]\n",
            "loss: 0.062287  [38528/60000]\n",
            "loss: 0.108516  [51328/60000]\n",
            "Test Error: \n",
            " Accuracy: 99.2%, Avg loss: 0.022439 \n",
            "\n",
            "Epoch 6\n",
            "-------------------------------\n",
            "loss: 0.084147  [  128/60000]\n",
            "loss: 0.049540  [12928/60000]\n",
            "loss: 0.079406  [25728/60000]\n",
            "loss: 0.119001  [38528/60000]\n",
            "loss: 0.042017  [51328/60000]\n",
            "Test Error: \n",
            " Accuracy: 99.0%, Avg loss: 0.027763 \n",
            "\n",
            "Epoch 7\n",
            "-------------------------------\n",
            "loss: 0.117674  [  128/60000]\n",
            "loss: 0.071057  [12928/60000]\n",
            "loss: 0.074902  [25728/60000]\n",
            "loss: 0.078163  [38528/60000]\n",
            "loss: 0.097365  [51328/60000]\n",
            "Test Error: \n",
            " Accuracy: 99.4%, Avg loss: 0.017718 \n",
            "\n",
            "Epoch 8\n",
            "-------------------------------\n",
            "loss: 0.107805  [  128/60000]\n",
            "loss: 0.068038  [12928/60000]\n",
            "loss: 0.112506  [25728/60000]\n",
            "loss: 0.119385  [38528/60000]\n",
            "loss: 0.034102  [51328/60000]\n",
            "Test Error: \n",
            " Accuracy: 99.4%, Avg loss: 0.015647 \n",
            "\n",
            "Epoch 9\n",
            "-------------------------------\n",
            "loss: 0.069664  [  128/60000]\n",
            "loss: 0.029193  [12928/60000]\n",
            "loss: 0.107598  [25728/60000]\n",
            "loss: 0.047568  [38528/60000]\n",
            "loss: 0.119506  [51328/60000]\n",
            "Test Error: \n",
            " Accuracy: 99.3%, Avg loss: 0.019571 \n",
            "\n",
            "Epoch 10\n",
            "-------------------------------\n",
            "loss: 0.045681  [  128/60000]\n",
            "loss: 0.019882  [12928/60000]\n",
            "loss: 0.056774  [25728/60000]\n",
            "loss: 0.072705  [38528/60000]\n",
            "loss: 0.046874  [51328/60000]\n",
            "Test Error: \n",
            " Accuracy: 99.4%, Avg loss: 0.017808 \n",
            "\n",
            "Epoch 11\n",
            "-------------------------------\n",
            "loss: 0.095292  [  128/60000]\n",
            "loss: 0.034363  [12928/60000]\n",
            "loss: 0.086372  [25728/60000]\n",
            "loss: 0.101695  [38528/60000]\n",
            "loss: 0.053914  [51328/60000]\n",
            "Test Error: \n",
            " Accuracy: 99.5%, Avg loss: 0.015724 \n",
            "\n",
            "Epoch 12\n",
            "-------------------------------\n",
            "loss: 0.090773  [  128/60000]\n",
            "loss: 0.051784  [12928/60000]\n",
            "loss: 0.117418  [25728/60000]\n",
            "loss: 0.050314  [38528/60000]\n",
            "loss: 0.074009  [51328/60000]\n",
            "Test Error: \n",
            " Accuracy: 99.3%, Avg loss: 0.019453 \n",
            "\n",
            "Epoch 13\n",
            "-------------------------------\n",
            "loss: 0.022382  [  128/60000]\n",
            "loss: 0.045629  [12928/60000]\n",
            "loss: 0.101651  [25728/60000]\n",
            "loss: 0.148666  [38528/60000]\n",
            "loss: 0.052282  [51328/60000]\n",
            "Test Error: \n",
            " Accuracy: 99.5%, Avg loss: 0.014196 \n",
            "\n",
            "Epoch 14\n",
            "-------------------------------\n",
            "loss: 0.072721  [  128/60000]\n",
            "loss: 0.040347  [12928/60000]\n",
            "loss: 0.152155  [25728/60000]\n",
            "loss: 0.088542  [38528/60000]\n",
            "loss: 0.060573  [51328/60000]\n",
            "Test Error: \n",
            " Accuracy: 99.5%, Avg loss: 0.015031 \n",
            "\n",
            "Epoch 15\n",
            "-------------------------------\n",
            "loss: 0.024033  [  128/60000]\n",
            "loss: 0.017849  [12928/60000]\n",
            "loss: 0.081162  [25728/60000]\n",
            "loss: 0.054806  [38528/60000]\n",
            "loss: 0.138225  [51328/60000]\n",
            "Test Error: \n",
            " Accuracy: 99.6%, Avg loss: 0.014497 \n",
            "\n",
            "Epoch 16\n",
            "-------------------------------\n",
            "loss: 0.040232  [  128/60000]\n",
            "loss: 0.033461  [12928/60000]\n",
            "loss: 0.074664  [25728/60000]\n",
            "loss: 0.097366  [38528/60000]\n",
            "loss: 0.092640  [51328/60000]\n",
            "Test Error: \n",
            " Accuracy: 99.5%, Avg loss: 0.013376 \n",
            "\n",
            "Epoch 17\n",
            "-------------------------------\n",
            "loss: 0.044768  [  128/60000]\n",
            "loss: 0.033747  [12928/60000]\n",
            "loss: 0.094444  [25728/60000]\n",
            "loss: 0.043342  [38528/60000]\n",
            "loss: 0.107056  [51328/60000]\n",
            "Test Error: \n",
            " Accuracy: 99.5%, Avg loss: 0.015724 \n",
            "\n",
            "Epoch 18\n",
            "-------------------------------\n",
            "loss: 0.086886  [  128/60000]\n",
            "loss: 0.014750  [12928/60000]\n",
            "loss: 0.103209  [25728/60000]\n",
            "loss: 0.103266  [38528/60000]\n",
            "loss: 0.049570  [51328/60000]\n",
            "Test Error: \n",
            " Accuracy: 99.6%, Avg loss: 0.013398 \n",
            "\n",
            "Epoch 19\n",
            "-------------------------------\n",
            "loss: 0.084014  [  128/60000]\n",
            "loss: 0.083570  [12928/60000]\n",
            "loss: 0.140979  [25728/60000]\n",
            "loss: 0.115483  [38528/60000]\n",
            "loss: 0.087876  [51328/60000]\n",
            "Test Error: \n",
            " Accuracy: 99.4%, Avg loss: 0.016430 \n",
            "\n",
            "Epoch 20\n",
            "-------------------------------\n",
            "loss: 0.031130  [  128/60000]\n",
            "loss: 0.021061  [12928/60000]\n",
            "loss: 0.120561  [25728/60000]\n",
            "loss: 0.031503  [38528/60000]\n",
            "loss: 0.103914  [51328/60000]\n",
            "Test Error: \n",
            " Accuracy: 99.6%, Avg loss: 0.012210 \n",
            "\n",
            "Epoch 21\n",
            "-------------------------------\n",
            "loss: 0.007858  [  128/60000]\n",
            "loss: 0.030355  [12928/60000]\n",
            "loss: 0.110995  [25728/60000]\n",
            "loss: 0.105993  [38528/60000]\n",
            "loss: 0.048019  [51328/60000]\n",
            "Test Error: \n",
            " Accuracy: 99.6%, Avg loss: 0.013531 \n",
            "\n",
            "Epoch 22\n",
            "-------------------------------\n",
            "loss: 0.077432  [  128/60000]\n",
            "loss: 0.044494  [12928/60000]\n",
            "loss: 0.041958  [25728/60000]\n",
            "loss: 0.047245  [38528/60000]\n",
            "loss: 0.034845  [51328/60000]\n",
            "Test Error: \n",
            " Accuracy: 99.6%, Avg loss: 0.011865 \n",
            "\n",
            "Epoch 23\n",
            "-------------------------------\n",
            "loss: 0.064085  [  128/60000]\n",
            "loss: 0.016941  [12928/60000]\n",
            "loss: 0.081999  [25728/60000]\n",
            "loss: 0.092926  [38528/60000]\n",
            "loss: 0.069932  [51328/60000]\n",
            "Test Error: \n",
            " Accuracy: 99.6%, Avg loss: 0.011484 \n",
            "\n",
            "Epoch 24\n",
            "-------------------------------\n",
            "loss: 0.059612  [  128/60000]\n",
            "loss: 0.029372  [12928/60000]\n",
            "loss: 0.094012  [25728/60000]\n",
            "loss: 0.035356  [38528/60000]\n",
            "loss: 0.071231  [51328/60000]\n",
            "Test Error: \n",
            " Accuracy: 99.6%, Avg loss: 0.011803 \n",
            "\n",
            "Epoch 25\n",
            "-------------------------------\n",
            "loss: 0.070096  [  128/60000]\n",
            "loss: 0.036078  [12928/60000]\n",
            "loss: 0.028805  [25728/60000]\n",
            "loss: 0.075568  [38528/60000]\n",
            "loss: 0.080428  [51328/60000]\n",
            "Test Error: \n",
            " Accuracy: 99.6%, Avg loss: 0.011579 \n",
            "\n",
            "Epoch 26\n",
            "-------------------------------\n",
            "loss: 0.025116  [  128/60000]\n",
            "loss: 0.024948  [12928/60000]\n",
            "loss: 0.146271  [25728/60000]\n",
            "loss: 0.070566  [38528/60000]\n",
            "loss: 0.076763  [51328/60000]\n",
            "Test Error: \n",
            " Accuracy: 99.6%, Avg loss: 0.011757 \n",
            "\n",
            "Epoch 27\n",
            "-------------------------------\n",
            "loss: 0.038926  [  128/60000]\n",
            "loss: 0.017973  [12928/60000]\n",
            "loss: 0.073462  [25728/60000]\n",
            "loss: 0.060610  [38528/60000]\n",
            "loss: 0.121129  [51328/60000]\n",
            "Test Error: \n",
            " Accuracy: 99.6%, Avg loss: 0.011457 \n",
            "\n",
            "Epoch 28\n",
            "-------------------------------\n",
            "loss: 0.053963  [  128/60000]\n",
            "loss: 0.021722  [12928/60000]\n",
            "loss: 0.071538  [25728/60000]\n",
            "loss: 0.057641  [38528/60000]\n",
            "loss: 0.072837  [51328/60000]\n",
            "Test Error: \n",
            " Accuracy: 99.6%, Avg loss: 0.011592 \n",
            "\n",
            "Epoch 29\n",
            "-------------------------------\n",
            "loss: 0.022700  [  128/60000]\n",
            "loss: 0.055061  [12928/60000]\n",
            "loss: 0.041316  [25728/60000]\n",
            "loss: 0.063046  [38528/60000]\n",
            "loss: 0.050305  [51328/60000]\n",
            "Test Error: \n",
            " Accuracy: 99.6%, Avg loss: 0.011523 \n",
            "\n",
            "Epoch 30\n",
            "-------------------------------\n",
            "loss: 0.017053  [  128/60000]\n",
            "loss: 0.023175  [12928/60000]\n",
            "loss: 0.069783  [25728/60000]\n",
            "loss: 0.047117  [38528/60000]\n",
            "loss: 0.027752  [51328/60000]\n",
            "Test Error: \n",
            " Accuracy: 99.6%, Avg loss: 0.011320 \n",
            "\n",
            "Done!\n"
          ]
        }
      ],
      "source": [
        "epochs = 30\n",
        "for t in range(epochs):\n",
        "    print(f\"Epoch {t+1}\\n-------------------------------\")\n",
        "    train(train_dataloader, model, loss_fn, optimizer, scheduler)\n",
        "    test(test_dataloader, model, loss_fn)\n",
        "print(\"Done!\")"
      ]
    },
    {
      "cell_type": "markdown",
      "metadata": {
        "id": "hB3MFnBu82kg"
      },
      "source": [
        "Saving Models\n",
        "============="
      ]
    },
    {
      "cell_type": "code",
      "execution_count": null,
      "metadata": {
        "colab": {
          "base_uri": "https://localhost:8080/"
        },
        "id": "DGaPt0TU84rw",
        "outputId": "8e6818af-cd4d-4b92-c8f2-fcb0d2857d81"
      },
      "outputs": [
        {
          "name": "stdout",
          "output_type": "stream",
          "text": [
            "Saved PyTorch Model State to model.pth\n"
          ]
        }
      ],
      "source": [
        "torch.save(model.state_dict(), \"model.pth\")\n",
        "print(\"Saved PyTorch Model State to model.pth\")"
      ]
    },
    {
      "cell_type": "markdown",
      "metadata": {
        "id": "iMRwNjUw87rg"
      },
      "source": [
        "Loading Models\n",
        "=============="
      ]
    },
    {
      "cell_type": "code",
      "execution_count": null,
      "metadata": {
        "colab": {
          "base_uri": "https://localhost:8080/"
        },
        "id": "d_Fyo3tt89Tx",
        "outputId": "cf823b5c-8413-4452-a096-f51f129191a1"
      },
      "outputs": [
        {
          "data": {
            "text/plain": [
              "<All keys matched successfully>"
            ]
          },
          "execution_count": 15,
          "metadata": {},
          "output_type": "execute_result"
        }
      ],
      "source": [
        "model = NeuralNetwork().to(device)\n",
        "model.load_state_dict(torch.load(\"model.pth\"))"
      ]
    },
    {
      "cell_type": "markdown",
      "metadata": {
        "id": "soO2AnXSGCBx"
      },
      "source": [
        "This model can now be used to make predictions."
      ]
    },
    {
      "cell_type": "code",
      "execution_count": null,
      "metadata": {
        "colab": {
          "base_uri": "https://localhost:8080/",
          "height": 829
        },
        "id": "zTqSrm9uzwNX",
        "outputId": "ec31533c-dd2e-4069-e34a-0a5b86ded465"
      },
      "outputs": [
        {
          "data": {
            "image/png": "[encoded data removed]",
            "text/plain": [
              "<Figure size 1000x1000 with 16 Axes>"
            ]
          },
          "metadata": {},
          "output_type": "display_data"
        }
      ],
      "source": [
        "model.eval()\n",
        "\n",
        "# Visualize a few test samples along with their predicted classes\n",
        "plt.figure(figsize=(10,10))\n",
        "test_images, test_labels = next(iter(test_dataloader))\n",
        "test_predictions = model(test_images.to(device))\n",
        "predicted_labels = test_predictions.max(1)[1]\n",
        "\n",
        "for i in range(16):\n",
        "    plt.subplot(4, 4, i+1)\n",
        "    plt.imshow(test_images[i].reshape((28, 28)))\n",
        "    plt.title(\"%s / %s\" % (label_map[int(predicted_labels[i])], label_map[int(test_labels[i])]))\n",
        "    plt.axis('off')\n",
        "\n",
        "# PREDICTED / ACTUAL"
      ]
    }
  ],
  "metadata": {
    "accelerator": "TPU",
    "colab": {
      "gpuType": "V28",
      "provenance": []
    },
    "kernelspec": {
      "display_name": "Python 3 (ipykernel)",
      "language": "python",
      "name": "python3"
    },
    "language_info": {
      "codemirror_mode": {
        "name": "ipython",
        "version": 3
      },
      "file_extension": ".py",
      "mimetype": "text/x-python",
      "name": "python",
      "nbconvert_exporter": "python",
      "pygments_lexer": "ipython3",
      "version": "3.10.12"
    }
  },
  "nbformat": 4,
  "nbformat_minor": 0
}
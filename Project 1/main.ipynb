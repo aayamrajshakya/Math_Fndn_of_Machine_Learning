{
  "nbformat": 4,
  "nbformat_minor": 0,
  "metadata": {
    "colab": {
      "provenance": []
    },
    "kernelspec": {
      "name": "python3",
      "display_name": "Python 3"
    },
    "language_info": {
      "name": "python"
    }
  },
  "cells": [
    {
      "cell_type": "code",
      "execution_count": 1,
      "metadata": {
        "id": "GsbwK4hqF6FT"
      },
      "outputs": [],
      "source": [
        "import pandas as pd\n",
        "import numpy as np\n",
        "\n",
        "file_TS  = '/content/data-Total-Sale.xlsx'\n",
        "file_ELP = '/content/data-ECommerce-Labor_Prod.xlsx'\n",
        "\n",
        "# Right now, the Total-Sale sheet is messy, with the 'year' as column headers.\n",
        "# Function to convert the column headers into row data and\n",
        "# group the new year rows with corresponding 'Total' values\n",
        "def fix_file_TS():\n",
        "    ts = pd.read_excel(file_TS)\n",
        "    ts.fillna(0, inplace=True)\n",
        "    ts = ts.melt(id_vars=[\"NAICS\"], var_name='year', value_name=\"Total\")\n",
        "    # Had to assert the year values as integer, otherwise merging won't work\n",
        "    ts['year']=ts['year'].astype(int)\n",
        "    ts.sort_values(by=['NAICS', 'year'], ascending=[True, True],\n",
        "                   inplace=True, ignore_index=True)\n",
        "    return ts\n",
        "\n",
        "# Function to sort the existing ELP sheet based on NAICS code and year\n",
        "def sort_file_ELP():\n",
        "    elp = pd.read_excel(file_ELP)\n",
        "    elp.fillna(0, inplace=True)\n",
        "    elp.sort_values(by=['NAICS', 'year'], ascending=[True, True],\n",
        "                    inplace=True, ignore_index=True)\n",
        "    return elp\n",
        "\n",
        "# Running the custom functions\n",
        "ts = fix_file_TS()\n",
        "elp = sort_file_ELP()\n",
        "\n",
        "f3 = pd.merge(ts, elp, how=\"right\", on=[\"NAICS\", \"year\"])\n",
        "f3.index = np.arange(1, len(f3) + 1)\n",
        "f3.to_excel(\"Trimmed-DATA.xlsx\", index=True)\n",
        "\n",
        "\n",
        "# REFERENCES:\n",
        "# https://shorturl.at/WzV3S\n",
        "# https://shorturl.at/UbjoJ"
      ]
    },
    {
      "cell_type": "code",
      "source": [
        "print(f3)"
      ],
      "metadata": {
        "colab": {
          "base_uri": "https://localhost:8080/"
        },
        "id": "o-9xVk5bGIs-",
        "outputId": "afeabe78-7708-4fbd-815d-9a55fd00d03a"
      },
      "execution_count": 2,
      "outputs": [
        {
          "output_type": "stream",
          "name": "stdout",
          "text": [
            "     NAICS  year      Total  E-commerce  Labor-Prod\n",
            "1      311  1999  426000000    45757000      92.461\n",
            "2      311  2000  435230000    54837000      93.886\n",
            "3      311  2001  451386000    53556000      94.745\n",
            "4      311  2002  460020000    51094000      99.497\n",
            "5      311  2003  483226000    59576000     101.398\n",
            "..     ...   ...        ...         ...         ...\n",
            "479    339  2017  148413106    75876701     100.000\n",
            "480    339  2018  153741167    84385069     102.046\n",
            "481    339  2019  153195877    86725244      95.969\n",
            "482    339  2020  143847977    85341375      96.774\n",
            "483    339  2021  161242387    96050779     102.872\n",
            "\n",
            "[483 rows x 5 columns]\n"
          ]
        }
      ]
    }
  ]
}